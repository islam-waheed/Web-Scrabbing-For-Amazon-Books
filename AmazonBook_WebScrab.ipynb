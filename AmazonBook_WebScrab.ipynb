{
  "nbformat": 4,
  "nbformat_minor": 0,
  "metadata": {
    "colab": {
      "name": "AmazonBook.ipynb",
      "provenance": [],
      "collapsed_sections": []
    },
    "kernelspec": {
      "name": "python3",
      "display_name": "Python 3"
    },
    "language_info": {
      "name": "python"
    }
  },
  "cells": [
    {
      "cell_type": "code",
      "source": [
        "!pip install selenium\n",
        "!apt-get update \n",
        "!apt install chromium-chromedriver\n",
        "!cp /usr/lib/chromium-browser/chromedriver '/content/'\n",
        "import csv\n",
        "import sys\n",
        "import time\n",
        "sys.path.insert(0,'/content/')\n",
        "from selenium import webdriver"
      ],
      "metadata": {
        "id": "AzeGhHjPdAnl",
        "colab": {
          "base_uri": "https://localhost:8080/"
        },
        "outputId": "60cec677-4def-4369-e388-a8ada11a54a6"
      },
      "execution_count": null,
      "outputs": [
        {
          "output_type": "stream",
          "name": "stdout",
          "text": [
            "Requirement already satisfied: selenium in /usr/local/lib/python3.7/dist-packages (4.1.3)\n",
            "Requirement already satisfied: trio-websocket~=0.9 in /usr/local/lib/python3.7/dist-packages (from selenium) (0.9.2)\n",
            "Requirement already satisfied: trio~=0.17 in /usr/local/lib/python3.7/dist-packages (from selenium) (0.20.0)\n",
            "Requirement already satisfied: urllib3[secure,socks]~=1.26 in /usr/local/lib/python3.7/dist-packages (from selenium) (1.26.9)\n",
            "Requirement already satisfied: idna in /usr/local/lib/python3.7/dist-packages (from trio~=0.17->selenium) (2.10)\n",
            "Requirement already satisfied: attrs>=19.2.0 in /usr/local/lib/python3.7/dist-packages (from trio~=0.17->selenium) (21.4.0)\n",
            "Requirement already satisfied: outcome in /usr/local/lib/python3.7/dist-packages (from trio~=0.17->selenium) (1.1.0)\n",
            "Requirement already satisfied: sniffio in /usr/local/lib/python3.7/dist-packages (from trio~=0.17->selenium) (1.2.0)\n",
            "Requirement already satisfied: sortedcontainers in /usr/local/lib/python3.7/dist-packages (from trio~=0.17->selenium) (2.4.0)\n",
            "Requirement already satisfied: async-generator>=1.9 in /usr/local/lib/python3.7/dist-packages (from trio~=0.17->selenium) (1.10)\n",
            "Requirement already satisfied: wsproto>=0.14 in /usr/local/lib/python3.7/dist-packages (from trio-websocket~=0.9->selenium) (1.1.0)\n",
            "Requirement already satisfied: certifi in /usr/local/lib/python3.7/dist-packages (from urllib3[secure,socks]~=1.26->selenium) (2021.10.8)\n",
            "Requirement already satisfied: pyOpenSSL>=0.14 in /usr/local/lib/python3.7/dist-packages (from urllib3[secure,socks]~=1.26->selenium) (22.0.0)\n",
            "Requirement already satisfied: cryptography>=1.3.4 in /usr/local/lib/python3.7/dist-packages (from urllib3[secure,socks]~=1.26->selenium) (36.0.2)\n",
            "Requirement already satisfied: PySocks!=1.5.7,<2.0,>=1.5.6 in /usr/local/lib/python3.7/dist-packages (from urllib3[secure,socks]~=1.26->selenium) (1.7.1)\n",
            "Requirement already satisfied: cffi>=1.12 in /usr/local/lib/python3.7/dist-packages (from cryptography>=1.3.4->urllib3[secure,socks]~=1.26->selenium) (1.15.0)\n",
            "Requirement already satisfied: pycparser in /usr/local/lib/python3.7/dist-packages (from cffi>=1.12->cryptography>=1.3.4->urllib3[secure,socks]~=1.26->selenium) (2.21)\n",
            "Requirement already satisfied: h11<1,>=0.9.0 in /usr/local/lib/python3.7/dist-packages (from wsproto>=0.14->trio-websocket~=0.9->selenium) (0.13.0)\n",
            "Requirement already satisfied: typing-extensions in /usr/local/lib/python3.7/dist-packages (from h11<1,>=0.9.0->wsproto>=0.14->trio-websocket~=0.9->selenium) (4.1.1)\n",
            "Hit:1 https://cloud.r-project.org/bin/linux/ubuntu bionic-cran40/ InRelease\n",
            "Hit:2 http://security.ubuntu.com/ubuntu bionic-security InRelease\n",
            "Ign:3 https://developer.download.nvidia.com/compute/cuda/repos/ubuntu1804/x86_64  InRelease\n",
            "Hit:4 http://ppa.launchpad.net/c2d4u.team/c2d4u4.0+/ubuntu bionic InRelease\n",
            "Hit:5 http://archive.ubuntu.com/ubuntu bionic InRelease\n",
            "Hit:6 http://archive.ubuntu.com/ubuntu bionic-updates InRelease\n",
            "Ign:7 https://developer.download.nvidia.com/compute/machine-learning/repos/ubuntu1804/x86_64  InRelease\n",
            "Hit:8 https://developer.download.nvidia.com/compute/cuda/repos/ubuntu1804/x86_64  Release\n",
            "Hit:9 https://developer.download.nvidia.com/compute/machine-learning/repos/ubuntu1804/x86_64  Release\n",
            "Hit:10 http://ppa.launchpad.net/cran/libgit2/ubuntu bionic InRelease\n",
            "Hit:11 http://archive.ubuntu.com/ubuntu bionic-backports InRelease\n",
            "Hit:12 http://ppa.launchpad.net/deadsnakes/ppa/ubuntu bionic InRelease\n",
            "Hit:13 http://ppa.launchpad.net/graphics-drivers/ppa/ubuntu bionic InRelease\n",
            "Reading package lists... Done\n",
            "Reading package lists... Done\n",
            "Building dependency tree       \n",
            "Reading state information... Done\n",
            "chromium-chromedriver is already the newest version (99.0.4844.84-0ubuntu0.18.04.1).\n",
            "0 upgraded, 0 newly installed, 0 to remove and 45 not upgraded.\n"
          ]
        }
      ]
    },
    {
      "cell_type": "code",
      "source": [
        "chrome_options = webdriver.ChromeOptions()\n",
        "chrome_options.add_argument('--headless')\n",
        "chrome_options.add_argument('--no-sandbox')\n",
        "chrome_options.add_argument('--disable-dev-shm-usage')\n",
        "wd = webdriver.Chrome('chromedriver',chrome_options=chrome_options)"
      ],
      "metadata": {
        "colab": {
          "base_uri": "https://localhost:8080/"
        },
        "id": "vpL1N4fFu-mT",
        "outputId": "cd2ba2d1-0857-4635-8929-024b644a88b1"
      },
      "execution_count": null,
      "outputs": [
        {
          "output_type": "stream",
          "name": "stderr",
          "text": [
            "/usr/local/lib/python3.7/dist-packages/ipykernel_launcher.py:5: DeprecationWarning: use options instead of chrome_options\n",
            "  \"\"\"\n"
          ]
        }
      ]
    },
    {
      "cell_type": "code",
      "source": [
        "count = int(input(\"Enter Number of Page You want to Scrab = \")) \n",
        "\n",
        "productList = []\n",
        "priceList = []\n",
        "id = 1\n",
        "for x in range (count):\n",
        "  wd.get(f'https://www.amazon.in/gp/bestsellers/books/ref=zg_bs_pg_2?ie=UTF8&pg={x+1}')\n",
        "  time.sleep(1)\n",
        "  wd.execute_script(\"window.scrollTo(0, document.body.scrollHeight);\")\n",
        "  time.sleep(4)\n",
        "  products = wd.find_elements_by_xpath(\"//div[@id='gridItemRoot']//a/span/div\")\n",
        "  print(len(products))\n",
        "\n",
        "  for i in range (len(products)):\n",
        "\n",
        "      product = wd.find_element_by_xpath(f\"//div[@id='gridItemRoot'][{i+1}]//span/div\").text\n",
        "      productList.append(str(product))\n",
        "      try:\n",
        "        price = wd.find_element_by_xpath(f\"//div[@id='gridItemRoot'][{i+1}]//span/span\").text\n",
        "      except:\n",
        "        price = \"null\"\n",
        "      priceList.append(price)\n",
        "      print(str(id)+  \"    \" +product + \"      \" + price)\n",
        "      id = id+1\n"
      ],
      "metadata": {
        "id": "mg1tgrzKdeP2",
        "colab": {
          "base_uri": "https://localhost:8080/"
        },
        "outputId": "8b322445-d4cd-41f0-9742-7a7dac5bffce"
      },
      "execution_count": null,
      "outputs": [
        {
          "name": "stdout",
          "output_type": "stream",
          "text": [
            "Enter Number of Page You want to Scrab = 3\n"
          ]
        },
        {
          "output_type": "stream",
          "name": "stderr",
          "text": [
            "/usr/local/lib/python3.7/dist-packages/ipykernel_launcher.py:11: DeprecationWarning: find_elements_by_* commands are deprecated. Please use find_elements() instead\n",
            "  # This is added back by InteractiveShellApp.init_path()\n",
            "/usr/local/lib/python3.7/dist-packages/ipykernel_launcher.py:16: DeprecationWarning: find_element_by_* commands are deprecated. Please use find_element() instead\n",
            "  app.launch_new_instance()\n",
            "/usr/local/lib/python3.7/dist-packages/ipykernel_launcher.py:19: DeprecationWarning: find_element_by_* commands are deprecated. Please use find_element() instead\n"
          ]
        },
        {
          "output_type": "stream",
          "name": "stdout",
          "text": [
            "50\n",
            "1    The Psychology of Money      ₹203.00\n",
            "2    Atomic Habits: The life-changing million copy bestseller      ₹540.00\n",
            "3    Ikigai: The Japanese secret to a long and happy life      ₹275.00\n",
            "4    My First Library: Boxset of 10 Board Books for Kids      ₹365.00\n",
            "5    DO EPIC SHIT      ₹297.00\n",
            "6    Rich Dad Poor Dad: What the Rich Teach Their Kids About Money That the Poor and Middle Class Do Not!      ₹356.00\n",
            "7    Word Power Made Easy      ₹98.00\n",
            "8    Grandma's Bag of Stories: Collection of 20+ Illustrated short stories, traditional Indian folk tales for all ages for children of all ages by Sudha Murty      ₹148.00\n",
            "9    Life's Amazing Secrets: How to Find Balance and Purpose in Your Life | Inspirational Zen book on motivation, self-development & healthy living      ₹136.00\n",
            "10    27 Years UPSC IAS/ IPS Prelims Topic-wise Solved Papers 1 & 2 (1995 - 2021) 12th Edition      ₹348.00\n",
            "11    Educart Term 2 Class 10 Sample Papers Bundle of Science, Math Standard, Social Science & English Books For 2022 (Based on the CBSE Term-2 Subjective Sample Paper released on 14 Jan 2022) Edubook      ₹449.00\n",
            "12    It Ends With Us: A Novel      ₹300.00\n",
            "13    The Subtle Art of Not Giving a F*ck: A Counterintuitive Approach to Living a Good Life      ₹349.00\n",
            "14    The Alchemist      ₹249.00\n",
            "15    The Power of Your Subconscious Mind      ₹164.00\n",
            "16    My First Book of Pencil Control : Practice Pattern Writing (Full Color Pages): Patterns Practice book for kids (Pattern Writing)      ₹89.00\n",
            "17    Very First Sight Words Sentences Level 1      ₹140.00\n",
            "18    Moral Story Books for Kids (Pack of 10 Books) | 160 Total Pages | Illustrated Stories      ₹235.00\n",
            "19    My First Mythology Tale (Illustrated) (Set of 5 Books) - Mahabharata, Krishna, Hanuman, Ganesha, Ramayana - Story Book for Kids      ₹191.00\n",
            "20    The Almanack Of Naval Ravikant: A Guide to Wealth and Happiness      ₹188.00\n",
            "21    Oswaal CBSE Sample Question Paper For Term 2, Class 10 (Set of 4 Books) English, Science, Social Science & Math(Standard) (For 2022 Exam)      ₹545.00\n",
            "22    What I Love About You and Our Memories: A Fill-in-the-Blank Gift for Valentines Day, Birthday, Anniversary Gifts for Husband, Wife, Boyfriend and Girlfriend (english)      ₹246.00\n",
            "23    Oswaal CBSE Question Bank Chapterwise For Term 2, Class 10 (Set of 4 Books) English Language & Literature, Science, Social Science & Math (Standard) (For 2022 Exam)      ₹839.00\n",
            "24    Quantitative Aptitude for Competitive Examinations      ₹446.00\n",
            "25    World’s Greatest Books For Personal Growth & Wealth (Set of 4 Books): Perfect Motivational Gift Set      ₹279.00\n",
            "26    Attitude Is Everything: Change Your Attitude ... Change Your Life!      ₹135.00\n",
            "27    Writing Practice Boxset: Pack of 4 Books (Writing Fun: Write and Practice Capital Letters, Small Letters, Patterns and Numbers 1 to 10)      ₹159.00\n",
            "28    400 Days      ₹156.00\n",
            "29    The Power of Your Subconscious Mind      ₹95.00\n",
            "30    As a Man Thinketh      ₹59.00\n",
            "31    How to Win Friends and Influence People      ₹99.00\n",
            "32    Whole Numbers and Half Truths: What Data Can and Cannot Tell Us About Modern India      ₹535.00\n",
            "33    Brain Activity Book for Kids - 200+ Activities for Age 3+      ₹86.00\n",
            "34    The Diary of a Young Girl      ₹99.00\n",
            "35    Colour With Crayons Book 1 for Kids Age 1 -6 Years - Drawing and Colouring Book for Early Learners      ₹49.00\n",
            "36    Sapiens: A Brief History of Humankind      ₹439.00\n",
            "37    Picture Books Collection for Early Learning (Set of 12)      ₹220.00\n",
            "38    The Monk Who Sold His Ferrari      ₹149.00\n",
            "39    My First 4 in 1 Alphabet Numbers Colours Shapes: Padded Board Books      ₹158.00\n",
            "40    101 Panchatantra Stories for Children: Colourful Illustrated Stories      ₹135.00\n",
            "41    My First Complete Learning Library: Boxset of 20 Board Books Gift Set for Kids (Horizontal Design)      ₹669.00\n",
            "42    108 Panchatantra Stories (Illustrated) for children      ₹98.00\n",
            "43    Educart TERM 2 CBSE Question Bank Bundle - Maths, Science, English & SST For Class 10 Of 2022 (Now Based on the Term-2 Subjective Sample Paper of 14 Jan 2022)      ₹638.00\n",
            "44    Karma: A Yogi's Guide to Crafting Your Destiny | Spirituality, Self-improvement & Self help books by Sadhguru | Penguin      ₹148.00\n",
            "45    General Knowledge 2022      ₹133.00\n",
            "46    Manorama English Yearbook 2022      ₹289.00\n",
            "47    Spoken English Course (Telugu)      ₹299.00\n",
            "48    The Silent Coup: A History of India's Deep State      ₹419.00\n",
            "49    Best of Children’s Classics (Set of 5 Books): Perfect Gift Set for Kids      ₹499.00\n",
            "50    Rich Dad Poor Dad - 20Th Anniversary Edition - Hindi      ₹290.00\n",
            "50\n",
            "51    Indian Polity For Civil Services and Other State Examinations| 6th Revised Edition      ₹719.00\n",
            "52    General Knowledge      ₹187.00\n",
            "53    The 5 AM Club: Own Your Morning, Elevate Your Life      ₹214.00\n",
            "54    Man's Search For Meaning: The classic tribute to hope from the Holocaust      ₹234.00\n",
            "55    You Can      ₹98.00\n",
            "56    The Intelligent Investor (English) Paperback – 2013      ₹484.00\n",
            "57    Grandparents' Bag of Stories      ₹150.00\n",
            "58    Eat That Frog!: 21 Great Ways to Stop Procrastinating and Get More Done in Less Time      ₹167.00\n",
            "59    Three Thousand Stitches: Ordinary People, Extraordinary Lives      ₹145.00\n",
            "60    Encyclopedia: Amazing Questions & Answers Science      ₹143.00\n",
            "61    The Compound Effect      ₹180.00\n",
            "62    MTG Objective NCERT at your FINGERTIPS - Biology, Best NEET Books (Based on NCERT Pattern - Latest & Revised Edition 2022)      ₹544.00\n",
            "63    The Richest Man in Babylon      ₹99.00\n",
            "64    The Blue Umbrella      ₹95.00\n",
            "65    A Modern Approach To Verbal & Non-Verbal Reasoning (2 Colour Edition)      ₹545.00\n",
            "66    Wuthering Heights      ₹99.00\n",
            "67    Complete Guide To NDA Maths      null\n",
            "68    My First Super Boxset of Pencil Control and Patterns : Pack of 4 interactive activity books to practice Patterns, Numbers and Alphabet: A set of 4 ... to practice Patterns, Numbers and Alphabet      ₹299.00\n",
            "69    The Magic of the Lost Temple: Illustrated, easy to read and much-loved first full length children’s fiction novel by Sudha Murty for ages 8–12: ... fiction novel by Sudha Murty for ages 8–12      ₹146.00\n",
            "70    Oswaal CBSE Question Bank Chapterwise For Term 2, Class 10, Science (For 2022 Exam)      ₹233.00\n",
            "71    Price Action Trading : Technical Analysis Simplified!      ₹335.00\n",
            "72    Oswaal CBSE Question Bank Chapterwise For Term 2, Class 10, Social Science (For 2022 Exam)      ₹199.00\n",
            "73    Think Like a Monk: The secret of how to harness the power of positivity and be happy now      ₹338.00\n",
            "74    Inner Engineering: A Yogi’s Guide to Joy - English      ₹169.00\n",
            "75    Diamonds in the Dust: Consistent Compounding for Extraordinary Wealth Creation: Consistent Compounding for Extraordinary Wealth Creation | Essential ... Stocks Investing | Penguin Non-fiction Books      ₹335.00\n",
            "76    Pride & Prejudice      ₹99.00\n",
            "77    Who Will Cry When You Die?      ₹149.00\n",
            "78    One Arranged Murder      ₹150.00\n",
            "79    Wren & Martin High School English Grammar And Composition Book (Regular Edition)      ₹307.00\n",
            "80    The Complete Novels of Sherlock Holmes      ₹139.00\n",
            "81    Arihant CBSE Science , Social science , Mathematics (Standard) and English Language & Literature Term 2 Class 10 for 2022 Exam (Cover Theory and MCQs) (Set of 4 Books)      ₹429.00\n",
            "82    LORDS OF THE DECCAN : Southern India from the Chalukyas to the Cholas      ₹610.00\n",
            "83    Oswaal CBSE Question Bank Chapterwise For Term 2, Class 10, Mathematics (Standard) (For 2022 Exam)      ₹193.00\n",
            "84    My First 1000 Words: Early Learning Picture Book to Learn Alphabet, Numbers, Shapes and Colours, Transport, Birds and Animals, Professions, Opposite ... Parts of the body and Objects Around Us.      ₹159.00\n",
            "85    Mahatma Gandhi Autobiography: The Story Of My Experiments With Truth      ₹99.00\n",
            "86    Blossom Moral Story Book for Kids 1 Years to 10 Years Old in English | 31 Fairy Tale Stories with Colourful Pictures | Best Bedtime Children Story Book | Short Stories for Infants, Toddlers | Book A      ₹80.00\n",
            "87    Wise and Otherwise: A salute to Life      ₹151.00\n",
            "88    The Changing Room      ₹399.00\n",
            "89    The Silent Patient: The record-breaking, multimillion copy Sunday Times bestselling thriller and Richard & Judy book club pick      ₹340.00\n",
            "90    The Theory of Everything: The Origin and Fate of the Universe      ₹149.00\n",
            "91    Current Affairs Yearly 2022      ₹135.00\n",
            "92    Price of the Modi Years      ₹629.00\n",
            "93    Diary of a Wimpy Kid: Big Shot (Book 16)      ₹197.00\n",
            "94    Indian Art and Culture for Civil Services and other Competitive Examinations | 4th Edition      ₹610.00\n",
            "95    The Boy, The Mole, The Fox and The Horse      ₹629.00\n",
            "96    97 JEE Main ONLINE & OFFLINE Physics, Chemistry & Mathematics Chapterwise + Topic-wise Solved Papers 8th Edition      ₹852.00\n",
            "97    My First ABC Sticker Book: Exciting Sticker Book With 100 Stickers      ₹139.00\n",
            "98    Baby Touch: Playbook      ₹282.00\n",
            "99    Word Power Made Easy By Norman Lewis (More than 700 Pages)      ₹95.00\n",
            "100    Death; An Inside Story: A book for all those who shall die      ₹171.00\n",
            "50\n",
            "101    Brijbhoomi Books And Handicrafts® Bhagavad Gita: Yatharoop      ₹345.00\n",
            "102    Metamorphosis      ₹70.00\n",
            "103    Arihant CBSE English Core Term 2 Class 12 for 2022 Exam (Cover Theory and MCQs)      ₹133.00\n",
            "104    101 Brain Booster Activity Book: Fun Activity Book For Children      ₹139.00\n",
            "105    Arihant CBSE Physics ,Chemistry,Mathmatics & English Core Term 2 Class 12 for 2022 Exam (Cover Theory and MCQs) (Set of 4 Books)      ₹455.00\n",
            "106    Nursery Rhymes Board Book (My First Book Series): Illustrated Classic Nursery Rhymes      ₹199.00\n",
            "107    Mindset: Changing The Way You think To Fulfil Your Potential      ₹335.00\n",
            "108    The Seven Husbands of Evelyn Hugo: A Novel      ₹394.00\n",
            "109    Autobiography of a Yogi      ₹99.00\n",
            "110    Think & Grow Rich (Hindi)      ₹99.00\n",
            "111    India's Struggle for Independence: 1857-1947      ₹225.00\n",
            "112    November 9: A Novel      ₹284.00\n",
            "113    How to Prepare for QUANTITATIVE APTITUDE for CAT ( With CAT Practice Tests on Pull Marks )| 9th Edition      ₹660.00\n",
            "114    Oxford Student Atlas for India, Fourth Edition - Useful for Competitive Exams      ₹237.00\n",
            "115    The Kid Who Came From Space      ₹245.00\n",
            "116    Apke Avchetan Man Ki Shakti (The Power of your Subconscious Mind in Hindi)      ₹99.00\n",
            "117    Why I am an Atheist and Other Works      ₹96.00\n",
            "118    Despite the State: Why India Lets Its People Down and How They Cope      ₹349.00\n",
            "119    Thinking, Fast and Slow (Penguin Press Non-Fiction)      ₹461.00\n",
            "120    My First Animal Sticker Book: Exciting Sticker Book With 100 Stickers      ₹126.00\n",
            "121    A Man Called Ove: The life-affirming bestseller that will brighten your day      ₹261.00\n",
            "122    365 Colouring Book for Kids - Painting and Drawing Book with 368 Big Pictures      ₹245.00\n",
            "123    Mandala Art: Colouring Books for Adults with Tear Out Sheets (Adult Colouring Book)      ₹129.00\n",
            "124    The Girl in Room 105      ₹134.00\n",
            "125    The Unusual Billionaires      ₹229.00\n",
            "126    India that is Bharat: Coloniality, Civilisation, Constitution      ₹559.00\n",
            "127    My Life in Full: Work, Family, and Our Future (With a special Epilogue for India)      ₹467.00\n",
            "128    Deep Work: Rules for Focused Success in a Distracted World      ₹294.00\n",
            "129    Great Stories for Children      ₹195.00\n",
            "130    Brilliant Brain Activity Book 3+      ₹152.00\n",
            "131    Bhagavad Gita Original in English - Bhagavad Gita as It is Original in English      ₹210.00\n",
            "132    Ugly Love: A Novel      ₹255.00\n",
            "133    Ruskin Bond - Best Selling Children Story Books Collection (Set of 4 Books)      ₹419.00\n",
            "134    The Girl Who Drank the Moon      ₹295.00\n",
            "135    You Only Live Once: One for Passion Two for Love Three for Friendship      ₹148.00\n",
            "136    A Brief History of Modern India (2019-2020 Edition) by Spectrum Books      ₹390.00\n",
            "137    Certificate Physical And Human Geography; Indian Edition      ₹335.00\n",
            "138    Think and Grow Rich      ₹149.00\n",
            "139    ZQWD Magic Practice Copybook, (4 BOOK + 10 REFILL+ 2 pen +2 grip) Number Tracing Book for Preschoolers with Pen, Magic Calligraphy Copybook Set Practical Reusable Writing Tool Simple Hand Lettering      ₹498.00\n",
            "140    And Then There Were None: The World’s Favourite Agatha Christie Book: The World’s Favourite Agatha Christie Book      ₹170.00\n",
            "141    Phonics Activity Book for Age 2 -5 Years- Fun filled Activities for Children My Activity Series      ₹95.00\n",
            "142    The Love Hypothesis      ₹366.00\n",
            "143    Capital Letters ABC: Write and practice Capital Letters A to Z book for kids (Writing Fun)      ₹42.00\n",
            "144    Oswaal CBSE Question Bank Chapterwise For Term 2, Class 10, Hindi B (For 2022 Exam)      ₹161.00\n",
            "145    The Power of A Positive Attitude: Your Road To Success      ₹99.00\n",
            "146    Modi's India: Hindu Nationalism and the Rise of Ethnic Democracy      ₹606.00\n",
            "147    Harry Potter and the Philosopher's Stone      ₹356.00\n",
            "148    The Official Cambridge Guide To Ielts Student's Book With Answers With Dvd Rom      ₹460.00\n",
            "149    Coffee Can Investing: The Low Risk Road to Stupendous Wealth      ₹341.00\n",
            "150    Very First Sight Words Sentences Level 2      ₹133.00\n"
          ]
        }
      ]
    },
    {
      "cell_type": "code",
      "source": [
        "with open('/content/AmazonBooks.csv', 'w',encoding='utf-8',newline='') as csvfile:\n",
        "  csvwriter = csv.writer(csvfile, delimiter=',')\n",
        "  csvwriter.writerow(['Book','Price'])\n",
        "  for i in range(len(products)):\n",
        "    csvwriter.writerow([productList[i],priceList[i]])\n",
        "\n",
        "#you will found CSV file in Files on the left"
      ],
      "metadata": {
        "id": "riCH5gFlHR16"
      },
      "execution_count": null,
      "outputs": []
    },
    {
      "cell_type": "code",
      "source": [
        "wd.close() "
      ],
      "metadata": {
        "id": "2SUhiSlXLMs7"
      },
      "execution_count": null,
      "outputs": []
    }
  ]
}